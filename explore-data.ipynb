{
 "cells": [
  {
   "cell_type": "code",
   "execution_count": 57,
   "metadata": {},
   "outputs": [],
   "source": [
    "import numpy as np\n",
    "import pandas as pd\n",
    "from sklearn.tree import DecisionTreeClassifier, DecisionTreeRegressor\n",
    "from sklearn.metrics import confusion_matrix, plot_confusion_matrix, accuracy_score, classification_report, roc_auc_score\n",
    "from sklearn import tree\n",
    "from sklearn.model_selection import train_test_split\n",
    "from sklearn.utils import resample"
   ]
  },
  {
   "cell_type": "markdown",
   "metadata": {},
   "source": [
    "Importing Data"
   ]
  },
  {
   "cell_type": "code",
   "execution_count": 49,
   "metadata": {},
   "outputs": [
    {
     "data": {
      "text/plain": [
       "(6362620, 11)"
      ]
     },
     "execution_count": 49,
     "metadata": {},
     "output_type": "execute_result"
    }
   ],
   "source": [
    "df = pd.read_csv(\"Fraud.csv\", sep=\",\")\n",
    "df.shape"
   ]
  },
  {
   "cell_type": "markdown",
   "metadata": {},
   "source": [
    "Check if any value is null"
   ]
  },
  {
   "cell_type": "code",
   "execution_count": 50,
   "metadata": {},
   "outputs": [
    {
     "data": {
      "text/plain": [
       "step              False\n",
       "type              False\n",
       "amount            False\n",
       "nameOrig          False\n",
       "oldbalanceOrg     False\n",
       "newbalanceOrig    False\n",
       "nameDest          False\n",
       "oldbalanceDest    False\n",
       "newbalanceDest    False\n",
       "isFraud           False\n",
       "isFlaggedFraud    False\n",
       "dtype: bool"
      ]
     },
     "execution_count": 50,
     "metadata": {},
     "output_type": "execute_result"
    }
   ],
   "source": [
    "# Check if any data is null\n",
    "df.isnull().any()"
   ]
  },
  {
   "cell_type": "markdown",
   "metadata": {},
   "source": [
    "1. Count how many fraudulent/ flagged fraudulent transactions this dataset contains\n",
    "2. Count how many unique customers/recipients this dataset contains"
   ]
  },
  {
   "cell_type": "code",
   "execution_count": 51,
   "metadata": {},
   "outputs": [
    {
     "name": "stdout",
     "output_type": "stream",
     "text": [
      "0    6354407\n",
      "1       8213\n",
      "Name: isFraud, dtype: int64\n",
      "0    6362604\n",
      "1         16\n",
      "Name: isFlaggedFraud, dtype: int64\n",
      "Total unique Customers:  6353307\n",
      "Total unique Recipients: 2722362\n"
     ]
    }
   ],
   "source": [
    "frauds_count = df['isFraud'].value_counts()\n",
    "print(frauds_count)\n",
    "frauds_flag_count = df['isFlaggedFraud'].value_counts()\n",
    "print(frauds_flag_count)\n",
    "count = df['nameOrig'].nunique()\n",
    "print(\"Total unique Customers: \", count)\n",
    "count = df['nameDest'].nunique()\n",
    "print(\"Total unique Recipients:\", count)\n"
   ]
  },
  {
   "cell_type": "markdown",
   "metadata": {},
   "source": [
    "Even with y_pred = [0, 0, ...., 0] accuracy = 99.87%"
   ]
  },
  {
   "cell_type": "code",
   "execution_count": 64,
   "metadata": {},
   "outputs": [
    {
     "name": "stdout",
     "output_type": "stream",
     "text": [
      "0.9987091795518198\n"
     ]
    }
   ],
   "source": [
    "y_pred = np.full(shape = df.isFraud.shape, fill_value = 0)\n",
    "print(accuracy_score(df.isFraud, y_pred))"
   ]
  },
  {
   "cell_type": "markdown",
   "metadata": {},
   "source": [
    "From Quicksight, we can see that only transactions of type CASH_OUT or TRANSFER contain fraudulent transaction\n",
    "We can clean other rows having other types of transaction to explore further"
   ]
  },
  {
   "cell_type": "code",
   "execution_count": 65,
   "metadata": {},
   "outputs": [
    {
     "data": {
      "text/plain": [
       "0.5"
      ]
     },
     "execution_count": 65,
     "metadata": {},
     "output_type": "execute_result"
    }
   ],
   "source": [
    "roc_auc_score(df.isFraud, y_pred)\n"
   ]
  },
  {
   "cell_type": "code",
   "execution_count": 66,
   "metadata": {},
   "outputs": [],
   "source": [
    "df_cleaned = df.loc[(df['type']=='CASH_OUT') | (df['type']=='TRANSFER')]"
   ]
  },
  {
   "cell_type": "markdown",
   "metadata": {},
   "source": [
    "Convert transaction types -> unique integers\n",
    "\n",
    "Convert Org Names and Dest Name -> unique integers (optional)"
   ]
  },
  {
   "cell_type": "code",
   "execution_count": 67,
   "metadata": {},
   "outputs": [],
   "source": [
    "arr = df_cleaned.filter(like='name')\n",
    "unique_names_df = pd.DataFrame(np.unique(arr, return_inverse=True)[1].reshape(arr.shape),\n",
    "             index=arr.index,\n",
    "             columns=arr.columns)\n",
    "arr = df_cleaned.filter(like='type')\n",
    "unique_type_df = pd.DataFrame(np.unique(arr, return_inverse=True)[1].reshape(arr.shape),\n",
    "             index=arr.index,\n",
    "             columns=arr.columns)"
   ]
  },
  {
   "cell_type": "markdown",
   "metadata": {},
   "source": [
    "Preparing dataset prior to training"
   ]
  },
  {
   "cell_type": "code",
   "execution_count": 68,
   "metadata": {},
   "outputs": [],
   "source": [
    "X = df_cleaned.drop(['isFlaggedFraud', 'isFraud', 'nameOrig', 'nameDest', 'type', 'step'], axis=1)\n",
    "y = df_cleaned['isFraud'].values.reshape(-1,1)"
   ]
  },
  {
   "cell_type": "markdown",
   "metadata": {},
   "source": [
    "Appending the converted names and types to features"
   ]
  },
  {
   "cell_type": "code",
   "execution_count": 69,
   "metadata": {},
   "outputs": [],
   "source": [
    "# Add unique columns to X\n",
    "X = X.join(unique_names_df)\n",
    "X = X.join(unique_type_df)"
   ]
  },
  {
   "cell_type": "code",
   "execution_count": 70,
   "metadata": {},
   "outputs": [
    {
     "name": "stdout",
     "output_type": "stream",
     "text": [
      "(2770409, 8)\n",
      "(2770409, 1)\n"
     ]
    }
   ],
   "source": [
    "print(X.shape)\n",
    "print(y.shape)"
   ]
  },
  {
   "cell_type": "code",
   "execution_count": 71,
   "metadata": {},
   "outputs": [
    {
     "data": {
      "text/html": [
       "<div>\n",
       "<style scoped>\n",
       "    .dataframe tbody tr th:only-of-type {\n",
       "        vertical-align: middle;\n",
       "    }\n",
       "\n",
       "    .dataframe tbody tr th {\n",
       "        vertical-align: top;\n",
       "    }\n",
       "\n",
       "    .dataframe thead th {\n",
       "        text-align: right;\n",
       "    }\n",
       "</style>\n",
       "<table border=\"1\" class=\"dataframe\">\n",
       "  <thead>\n",
       "    <tr style=\"text-align: right;\">\n",
       "      <th></th>\n",
       "      <th>amount</th>\n",
       "      <th>oldbalanceOrg</th>\n",
       "      <th>newbalanceOrig</th>\n",
       "      <th>oldbalanceDest</th>\n",
       "      <th>newbalanceDest</th>\n",
       "      <th>nameOrig</th>\n",
       "      <th>nameDest</th>\n",
       "      <th>type</th>\n",
       "    </tr>\n",
       "  </thead>\n",
       "  <tbody>\n",
       "    <tr>\n",
       "      <th>2</th>\n",
       "      <td>181.00</td>\n",
       "      <td>181.00</td>\n",
       "      <td>0.0</td>\n",
       "      <td>0.00</td>\n",
       "      <td>0.00</td>\n",
       "      <td>516496</td>\n",
       "      <td>2518756</td>\n",
       "      <td>1</td>\n",
       "    </tr>\n",
       "    <tr>\n",
       "      <th>3</th>\n",
       "      <td>181.00</td>\n",
       "      <td>181.00</td>\n",
       "      <td>0.0</td>\n",
       "      <td>21182.00</td>\n",
       "      <td>0.00</td>\n",
       "      <td>3006153</td>\n",
       "      <td>2242046</td>\n",
       "      <td>0</td>\n",
       "    </tr>\n",
       "    <tr>\n",
       "      <th>15</th>\n",
       "      <td>229133.94</td>\n",
       "      <td>15325.00</td>\n",
       "      <td>0.0</td>\n",
       "      <td>5083.00</td>\n",
       "      <td>51513.44</td>\n",
       "      <td>3116275</td>\n",
       "      <td>2388504</td>\n",
       "      <td>0</td>\n",
       "    </tr>\n",
       "    <tr>\n",
       "      <th>19</th>\n",
       "      <td>215310.30</td>\n",
       "      <td>705.00</td>\n",
       "      <td>0.0</td>\n",
       "      <td>22425.00</td>\n",
       "      <td>0.00</td>\n",
       "      <td>1136387</td>\n",
       "      <td>169525</td>\n",
       "      <td>1</td>\n",
       "    </tr>\n",
       "    <tr>\n",
       "      <th>24</th>\n",
       "      <td>311685.89</td>\n",
       "      <td>10835.00</td>\n",
       "      <td>0.0</td>\n",
       "      <td>6267.00</td>\n",
       "      <td>2719172.89</td>\n",
       "      <td>1667851</td>\n",
       "      <td>3163046</td>\n",
       "      <td>1</td>\n",
       "    </tr>\n",
       "    <tr>\n",
       "      <th>...</th>\n",
       "      <td>...</td>\n",
       "      <td>...</td>\n",
       "      <td>...</td>\n",
       "      <td>...</td>\n",
       "      <td>...</td>\n",
       "      <td>...</td>\n",
       "      <td>...</td>\n",
       "      <td>...</td>\n",
       "    </tr>\n",
       "    <tr>\n",
       "      <th>6362615</th>\n",
       "      <td>339682.13</td>\n",
       "      <td>339682.13</td>\n",
       "      <td>0.0</td>\n",
       "      <td>0.00</td>\n",
       "      <td>339682.13</td>\n",
       "      <td>2914695</td>\n",
       "      <td>2898485</td>\n",
       "      <td>0</td>\n",
       "    </tr>\n",
       "    <tr>\n",
       "      <th>6362616</th>\n",
       "      <td>6311409.28</td>\n",
       "      <td>6311409.28</td>\n",
       "      <td>0.0</td>\n",
       "      <td>0.00</td>\n",
       "      <td>0.00</td>\n",
       "      <td>896003</td>\n",
       "      <td>1493838</td>\n",
       "      <td>1</td>\n",
       "    </tr>\n",
       "    <tr>\n",
       "      <th>6362617</th>\n",
       "      <td>6311409.28</td>\n",
       "      <td>6311409.28</td>\n",
       "      <td>0.0</td>\n",
       "      <td>68488.84</td>\n",
       "      <td>6379898.11</td>\n",
       "      <td>275314</td>\n",
       "      <td>617716</td>\n",
       "      <td>0</td>\n",
       "    </tr>\n",
       "    <tr>\n",
       "      <th>6362618</th>\n",
       "      <td>850002.52</td>\n",
       "      <td>850002.52</td>\n",
       "      <td>0.0</td>\n",
       "      <td>0.00</td>\n",
       "      <td>0.00</td>\n",
       "      <td>1161800</td>\n",
       "      <td>1831033</td>\n",
       "      <td>1</td>\n",
       "    </tr>\n",
       "    <tr>\n",
       "      <th>6362619</th>\n",
       "      <td>850002.52</td>\n",
       "      <td>850002.52</td>\n",
       "      <td>0.0</td>\n",
       "      <td>6510099.11</td>\n",
       "      <td>7360101.63</td>\n",
       "      <td>473733</td>\n",
       "      <td>3062151</td>\n",
       "      <td>0</td>\n",
       "    </tr>\n",
       "  </tbody>\n",
       "</table>\n",
       "<p>2770409 rows × 8 columns</p>\n",
       "</div>"
      ],
      "text/plain": [
       "             amount  oldbalanceOrg  newbalanceOrig  oldbalanceDest  \\\n",
       "2            181.00         181.00             0.0            0.00   \n",
       "3            181.00         181.00             0.0        21182.00   \n",
       "15        229133.94       15325.00             0.0         5083.00   \n",
       "19        215310.30         705.00             0.0        22425.00   \n",
       "24        311685.89       10835.00             0.0         6267.00   \n",
       "...             ...            ...             ...             ...   \n",
       "6362615   339682.13      339682.13             0.0            0.00   \n",
       "6362616  6311409.28     6311409.28             0.0            0.00   \n",
       "6362617  6311409.28     6311409.28             0.0        68488.84   \n",
       "6362618   850002.52      850002.52             0.0            0.00   \n",
       "6362619   850002.52      850002.52             0.0      6510099.11   \n",
       "\n",
       "         newbalanceDest  nameOrig  nameDest  type  \n",
       "2                  0.00    516496   2518756     1  \n",
       "3                  0.00   3006153   2242046     0  \n",
       "15             51513.44   3116275   2388504     0  \n",
       "19                 0.00   1136387    169525     1  \n",
       "24           2719172.89   1667851   3163046     1  \n",
       "...                 ...       ...       ...   ...  \n",
       "6362615       339682.13   2914695   2898485     0  \n",
       "6362616            0.00    896003   1493838     1  \n",
       "6362617      6379898.11    275314    617716     0  \n",
       "6362618            0.00   1161800   1831033     1  \n",
       "6362619      7360101.63    473733   3062151     0  \n",
       "\n",
       "[2770409 rows x 8 columns]"
      ]
     },
     "execution_count": 71,
     "metadata": {},
     "output_type": "execute_result"
    }
   ],
   "source": [
    "X"
   ]
  },
  {
   "cell_type": "markdown",
   "metadata": {},
   "source": [
    "# DECISION TREE"
   ]
  },
  {
   "cell_type": "markdown",
   "metadata": {},
   "source": [
    "Splitting dataset to training and test data. Ratio 2:1"
   ]
  },
  {
   "cell_type": "code",
   "execution_count": 72,
   "metadata": {},
   "outputs": [],
   "source": [
    "X_train, X_test, y_train, y_test =  train_test_split(X, y, random_state=42, test_size=0.33)"
   ]
  },
  {
   "cell_type": "markdown",
   "metadata": {},
   "source": [
    "Due to the imbalance of the training dataset -> create synthetic data samples"
   ]
  },
  {
   "cell_type": "code",
   "execution_count": 73,
   "metadata": {},
   "outputs": [],
   "source": [
    "X_train['isFraud'] = y_train\n",
    "negative = X_train[X_train.isFraud==0]\n",
    "positive = X_train[X_train.isFraud==1]\n",
    "pos_upsampled = resample(positive,\n",
    "                        replace=True, # sample with replacement\n",
    "                        n_samples=len(negative), # match number in majority class\n",
    "                        random_state=27) # reproducible results\n",
    "# combine majority and upsampled minority\n",
    "upsampled = pd.concat([negative, pos_upsampled])\n",
    "upsampled.isFraud.value_counts()\n",
    "\n",
    "X_train = upsampled.drop(['isFraud'], axis=1)\n",
    "y_train = upsampled['isFraud'].values.reshape(-1,1)\n",
    "y_train = y_train.astype(int)"
   ]
  },
  {
   "cell_type": "code",
   "execution_count": 74,
   "metadata": {},
   "outputs": [
    {
     "name": "stdout",
     "output_type": "stream",
     "text": [
      "(3701416, 8)\n",
      "(3701416, 1)\n"
     ]
    }
   ],
   "source": [
    "print(X_train.shape)\n",
    "print(y_train.shape)"
   ]
  },
  {
   "cell_type": "code",
   "execution_count": 41,
   "metadata": {},
   "outputs": [
    {
     "name": "stdout",
     "output_type": "stream",
     "text": [
      "\n",
      "[[746140 165348]\n",
      " [   170   2577]]\n"
     ]
    },
    {
     "data": {
      "text/plain": [
       "0.8189546451404727"
      ]
     },
     "execution_count": 41,
     "metadata": {},
     "output_type": "execute_result"
    }
   ],
   "source": [
    "cont = True\n",
    "while cont:\n",
    "    my_tree = DecisionTreeClassifier(splitter='random', max_depth=10, max_features=5, max_leaf_nodes=15)\n",
    "    my_tree.fit(X_train, y_train)\n",
    "\n",
    "    y_pred = my_tree.predict(X_test)\n",
    "    cm = confusion_matrix(y_test, y_pred)\n",
    "    print()\n",
    "    if cm[1][0]/cm[1][1] < 0.3 and my_tree.score(X_test, y_test) > 0.75:\n",
    "        cont = False\n",
    "        print(cm)\n",
    "my_tree.score(X_test, y_test)"
   ]
  },
  {
   "cell_type": "code",
   "execution_count": 42,
   "metadata": {},
   "outputs": [
    {
     "name": "stdout",
     "output_type": "stream",
     "text": [
      "9\n",
      "29\n"
     ]
    }
   ],
   "source": [
    "print(my_tree.get_depth())\n",
    "print(my_tree.tree_.node_count)"
   ]
  },
  {
   "cell_type": "code",
   "execution_count": 46,
   "metadata": {},
   "outputs": [
    {
     "name": "stderr",
     "output_type": "stream",
     "text": [
      "/Users/ethanphan/Documents/Personal/de-challenge-2022/.venv/lib/python3.8/site-packages/sklearn/utils/deprecation.py:87: FutureWarning: Function plot_confusion_matrix is deprecated; Function `plot_confusion_matrix` is deprecated in 1.0 and will be removed in 1.2. Use one of the class methods: ConfusionMatrixDisplay.from_predictions or ConfusionMatrixDisplay.from_estimator.\n",
      "  warnings.warn(msg, category=FutureWarning)\n"
     ]
    },
    {
     "data": {
      "text/plain": [
       "0.8189546451404727"
      ]
     },
     "execution_count": 46,
     "metadata": {},
     "output_type": "execute_result"
    },
    {
     "data": {
      "image/png": "[encoded data removed]",
      "text/plain": [
       "<Figure size 432x288 with 2 Axes>"
      ]
     },
     "metadata": {
      "needs_background": "light"
     },
     "output_type": "display_data"
    }
   ],
   "source": [
    "plot_confusion_matrix(my_tree, X_test, y_test)\n",
    "my_tree.score(X_test, y_test)"
   ]
  },
  {
   "cell_type": "code",
   "execution_count": 47,
   "metadata": {},
   "outputs": [
    {
     "name": "stdout",
     "output_type": "stream",
     "text": [
      "|--- type <= 0.67\n",
      "|   |--- amount <= 7123462.51\n",
      "|   |   |--- oldbalanceDest <= 209166471.33\n",
      "|   |   |   |--- amount <= 4797607.56\n",
      "|   |   |   |   |--- amount <= 440011.62\n",
      "|   |   |   |   |   |--- newbalanceOrig <= 252976.36\n",
      "|   |   |   |   |   |   |--- oldbalanceOrg <= 222371.53\n",
      "|   |   |   |   |   |   |   |--- oldbalanceOrg <= 45696.53\n",
      "|   |   |   |   |   |   |   |   |--- amount <= 67534.92\n",
      "|   |   |   |   |   |   |   |   |   |--- class: 0\n",
      "|   |   |   |   |   |   |   |   |--- amount >  67534.92\n",
      "|   |   |   |   |   |   |   |   |   |--- class: 0\n",
      "|   |   |   |   |   |   |   |--- oldbalanceOrg >  45696.53\n",
      "|   |   |   |   |   |   |   |   |--- newbalanceOrig <= 33220.99\n",
      "|   |   |   |   |   |   |   |   |   |--- class: 1\n",
      "|   |   |   |   |   |   |   |   |--- newbalanceOrig >  33220.99\n",
      "|   |   |   |   |   |   |   |   |   |--- class: 0\n",
      "|   |   |   |   |   |   |--- oldbalanceOrg >  222371.53\n",
      "|   |   |   |   |   |   |   |--- class: 1\n",
      "|   |   |   |   |   |--- newbalanceOrig >  252976.36\n",
      "|   |   |   |   |   |   |--- class: 0\n",
      "|   |   |   |   |--- amount >  440011.62\n",
      "|   |   |   |   |   |--- class: 1\n",
      "|   |   |   |--- amount >  4797607.56\n",
      "|   |   |   |   |--- class: 1\n",
      "|   |   |--- oldbalanceDest >  209166471.33\n",
      "|   |   |   |--- class: 1\n",
      "|   |--- amount >  7123462.51\n",
      "|   |   |--- class: 1\n",
      "|--- type >  0.67\n",
      "|   |--- newbalanceOrig <= 10484565.87\n",
      "|   |   |--- oldbalanceOrg <= 10886724.13\n",
      "|   |   |   |--- newbalanceDest <= 16143209.61\n",
      "|   |   |   |   |--- oldbalanceDest <= 58383.55\n",
      "|   |   |   |   |   |--- class: 1\n",
      "|   |   |   |   |--- oldbalanceDest >  58383.55\n",
      "|   |   |   |   |   |--- class: 0\n",
      "|   |   |   |--- newbalanceDest >  16143209.61\n",
      "|   |   |   |   |--- class: 0\n",
      "|   |   |--- oldbalanceOrg >  10886724.13\n",
      "|   |   |   |--- class: 1\n",
      "|   |--- newbalanceOrig >  10484565.87\n",
      "|   |   |--- class: 1\n",
      "\n"
     ]
    }
   ],
   "source": [
    "text_representation = tree.export_text(my_tree, feature_names=my_tree.feature_names_in_.tolist())\n",
    "print(text_representation)"
   ]
  },
  {
   "cell_type": "markdown",
   "metadata": {},
   "source": [
    "# Logistic Regression"
   ]
  },
  {
   "cell_type": "markdown",
   "metadata": {},
   "source": [
    "#### Convert name string and type to unique values"
   ]
  },
  {
   "cell_type": "code",
   "execution_count": 82,
   "metadata": {},
   "outputs": [],
   "source": [
    "arr = df.filter(like='name')\n",
    "unique_names_df = pd.DataFrame(np.unique(arr, return_inverse=True)[1].reshape(arr.shape),\n",
    "             index=arr.index,\n",
    "             columns=arr.columns)\n",
    "arr = df.filter(like='type')\n",
    "unique_type_df = pd.DataFrame(np.unique(arr, return_inverse=True)[1].reshape(arr.shape),\n",
    "             index=arr.index,\n",
    "             columns=arr.columns)"
   ]
  },
  {
   "cell_type": "code",
   "execution_count": 87,
   "metadata": {},
   "outputs": [],
   "source": [
    "X = df.drop(['isFlaggedFraud', 'isFraud', 'nameOrig', 'nameDest', 'type', 'step'], axis=1)\n",
    "X = X.join(unique_names_df)\n",
    "X = X.join(unique_type_df)"
   ]
  },
  {
   "cell_type": "code",
   "execution_count": 88,
   "metadata": {},
   "outputs": [],
   "source": [
    "y = df['isFraud']"
   ]
  },
  {
   "cell_type": "code",
   "execution_count": 89,
   "metadata": {},
   "outputs": [],
   "source": [
    "from imblearn.under_sampling import RandomUnderSampler\n",
    "under_sampling = RandomUnderSampler(sampling_strategy=0.8)\n",
    "X_res, y_res = under_sampling.fit_resample(X, y)"
   ]
  },
  {
   "cell_type": "code",
   "execution_count": 95,
   "metadata": {},
   "outputs": [],
   "source": [
    "X_train, X_test, y_train, y_test = train_test_split(X_res, y_res, test_size=0.2, random_state=42)\n",
    "\n",
    "X_train, X_val, y_train, y_val = train_test_split(X_train, y_train, test_size=0.25, random_state=42)"
   ]
  },
  {
   "cell_type": "code",
   "execution_count": 98,
   "metadata": {},
   "outputs": [
    {
     "name": "stdout",
     "output_type": "stream",
     "text": [
      "(11087, 8)\n",
      "(3696, 8)\n",
      "(3696, 8)\n"
     ]
    }
   ],
   "source": [
    "print(X_train.shape)\n",
    "print(X_val.shape)\n",
    "print(X_test.shape)"
   ]
  },
  {
   "cell_type": "code",
   "execution_count": 100,
   "metadata": {},
   "outputs": [],
   "source": [
    "from sklearn.linear_model import LogisticRegression"
   ]
  },
  {
   "cell_type": "code",
   "execution_count": 102,
   "metadata": {},
   "outputs": [
    {
     "name": "stdout",
     "output_type": "stream",
     "text": [
      "              precision    recall  f1-score   support\n",
      "\n",
      "           0       0.92      0.95      0.93      2050\n",
      "           1       0.93      0.89      0.91      1646\n",
      "\n",
      "    accuracy                           0.92      3696\n",
      "   macro avg       0.93      0.92      0.92      3696\n",
      "weighted avg       0.92      0.92      0.92      3696\n",
      "\n",
      "accuracy 0.9242424242424242\n"
     ]
    }
   ],
   "source": [
    "class_weight = {0: 4, 1: 5}\n",
    "model = LogisticRegression(class_weight=class_weight)\n",
    "model.fit(X_train, y_train)\n",
    "y_pred = model.predict(X_val)\n",
    "print(classification_report(y_val, y_pred))\n",
    "print('accuracy', accuracy_score(y_val, y_pred))"
   ]
  },
  {
   "cell_type": "code",
   "execution_count": null,
   "metadata": {},
   "outputs": [],
   "source": [
    "y_pred_test = model.predict(X_test)\n",
    "print('accuracy', accuracy_score(y_test, y_pred_test))"
   ]
  }
 ],
 "metadata": {
  "interpreter": {
   "hash": "8a0022beddc9466ea05e63511ad45050b7086b02462f541437c81a06f449a009"
  },
  "kernelspec": {
   "display_name": "Python 3.8.9 64-bit ('3.8.9')",
   "language": "python",
   "name": "python3"
  },
  "language_info": {
   "codemirror_mode": {
    "name": "ipython",
    "version": 3
   },
   "file_extension": ".py",
   "mimetype": "text/x-python",
   "name": "python",
   "nbconvert_exporter": "python",
   "pygments_lexer": "ipython3",
   "version": "3.8.9"
  },
  "orig_nbformat": 4
 },
 "nbformat": 4,
 "nbformat_minor": 2
}
